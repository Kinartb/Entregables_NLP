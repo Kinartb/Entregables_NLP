{
 "cells": [
  {
   "cell_type": "code",
   "execution_count": 1,
   "metadata": {},
   "outputs": [
    {
     "name": "stderr",
     "output_type": "stream",
     "text": [
      "c:\\Users\\artur\\AppData\\Local\\Programs\\Python\\Python311\\Lib\\site-packages\\tqdm\\auto.py:21: TqdmWarning: IProgress not found. Please update jupyter and ipywidgets. See https://ipywidgets.readthedocs.io/en/stable/user_install.html\n",
      "  from .autonotebook import tqdm as notebook_tqdm\n"
     ]
    }
   ],
   "source": [
    "from transformers import GPT2Tokenizer, GPT2LMHeadModel, Trainer, TrainingArguments\n",
    "from peft import LoraConfig, get_peft_model, prepare_model_for_kbit_training\n",
    "from datasets import load_dataset\n",
    "import torch\n"
   ]
  },
  {
   "cell_type": "markdown",
   "metadata": {},
   "source": [
    "Preparar el Modelo"
   ]
  },
  {
   "cell_type": "code",
   "execution_count": 2,
   "metadata": {},
   "outputs": [
    {
     "data": {
      "text/plain": [
       "Embedding(50257, 768)"
      ]
     },
     "execution_count": 2,
     "metadata": {},
     "output_type": "execute_result"
    }
   ],
   "source": [
    "device = \"cuda\" if torch.cuda.is_available() else \"cpu\"\n",
    "\n",
    "MODEL_NAME = \"gpt2\"\n",
    "tokenizer = GPT2Tokenizer.from_pretrained(MODEL_NAME)\n",
    "model = GPT2LMHeadModel.from_pretrained(MODEL_NAME).to(device)\n",
    "\n",
    "tokenizer.pad_token = tokenizer.eos_token\n",
    "model.resize_token_embeddings(len(tokenizer))\n"
   ]
  },
  {
   "cell_type": "markdown",
   "metadata": {},
   "source": [
    "Configuración de LoRA"
   ]
  },
  {
   "cell_type": "code",
   "execution_count": 3,
   "metadata": {},
   "outputs": [
    {
     "name": "stderr",
     "output_type": "stream",
     "text": [
      "c:\\Users\\artur\\AppData\\Local\\Programs\\Python\\Python311\\Lib\\site-packages\\peft\\tuners\\lora\\layer.py:1150: UserWarning: fan_in_fan_out is set to False but the target module is `Conv1D`. Setting fan_in_fan_out to True.\n",
      "  warnings.warn(\n"
     ]
    }
   ],
   "source": [
    "peft_config = LoraConfig(\n",
    "    r=4,\n",
    "    lora_alpha=8,\n",
    "    lora_dropout=0.05,\n",
    "    bias=\"none\",\n",
    "    task_type=\"CAUSAL_LM\",\n",
    ")\n",
    "\n",
    "model = prepare_model_for_kbit_training(model)\n",
    "model = get_peft_model(model, peft_config)\n"
   ]
  },
  {
   "cell_type": "markdown",
   "metadata": {},
   "source": [
    "Cargar Dataset"
   ]
  },
  {
   "cell_type": "code",
   "execution_count": 8,
   "metadata": {},
   "outputs": [],
   "source": [
    "dataset = load_dataset(\"wikitext\", \"wikitext-2-raw-v1\")\n",
    "\n",
    "def preprocess_function(examples):\n",
    "    tokenized = tokenizer(\n",
    "        examples[\"text\"], truncation=True, padding=\"max_length\", max_length=128\n",
    "    )\n",
    "    tokenized[\"labels\"] = tokenized[\"input_ids\"].copy()\n",
    "    return tokenized\n",
    "\n",
    "tokenized_dataset = dataset.map(preprocess_function, batched=True)\n",
    "tokenized_dataset = tokenized_dataset.remove_columns([\"text\"])\n",
    "tokenized_dataset.set_format(\"torch\")\n",
    "\n",
    "train_dataset = tokenized_dataset[\"train\"]\n",
    "eval_dataset = tokenized_dataset[\"validation\"]\n",
    "train_dataset = tokenized_dataset[\"train\"].select(range(1000))  # Reducido a 500 ejemplos\n",
    "eval_dataset = tokenized_dataset[\"validation\"].select(range(300))  # Reducido a 100 ejemplos"
   ]
  },
  {
   "cell_type": "markdown",
   "metadata": {},
   "source": [
    "Configuración de Entrenamiento"
   ]
  },
  {
   "cell_type": "code",
   "execution_count": 9,
   "metadata": {},
   "outputs": [
    {
     "name": "stderr",
     "output_type": "stream",
     "text": [
      "c:\\Users\\artur\\AppData\\Local\\Programs\\Python\\Python311\\Lib\\site-packages\\transformers\\training_args.py:1570: FutureWarning: `evaluation_strategy` is deprecated and will be removed in version 4.46 of 🤗 Transformers. Use `eval_strategy` instead\n",
      "  warnings.warn(\n"
     ]
    }
   ],
   "source": [
    "training_args = TrainingArguments(\n",
    "    output_dir=\"./gpt2_peft_lora\",\n",
    "    dataloader_drop_last=True,\n",
    "    evaluation_strategy=\"epoch\",  # Mantén la evaluación por época\n",
    "    save_strategy=\"epoch\",  # Guarda el modelo por época\n",
    "    num_train_epochs=50,  # Reduce a 5 si el dataset es grande\n",
    "    logging_steps=100,  # Registra cada 10 pasos para evitar demasiada información\n",
    "    per_device_train_batch_size=8,  # Usa 4 si tu GPU tiene suficiente memoria\n",
    "    per_device_eval_batch_size=8,  # Ajusta para evaluación rápida\n",
    "    learning_rate=1e-4,  # Mantén la misma tasa de aprendizaje\n",
    "    lr_scheduler_type=\"cosine\",  # Mantén el programador de aprendizaje coseno\n",
    "    warmup_steps=100,  # Ajusta a ~10% del total de pasos de entrenamiento\n",
    "    gradient_accumulation_steps=4,  # Simula un lote mayor acumulando gradientes\n",
    "    fp16=True,  # Usa precisión mixta si tu GPU lo soporta\n",
    "    weight_decay=0.01,  # Ajusta ligeramente el decaimiento del peso\n",
    "    run_name=\"gpt2_peft_lora\",  # Nombre del experimento\n",
    "    dataloader_num_workers=4,  # Más hilos para cargar datos\n",
    "    logging_dir=\"./logs\",\n",
    ")\n"
   ]
  },
  {
   "cell_type": "markdown",
   "metadata": {},
   "source": [
    "Inicializar y entrenar"
   ]
  },
  {
   "cell_type": "code",
   "execution_count": 10,
   "metadata": {},
   "outputs": [
    {
     "name": "stderr",
     "output_type": "stream",
     "text": [
      "C:\\Users\\artur\\AppData\\Local\\Temp\\ipykernel_22312\\2281871093.py:1: FutureWarning: `tokenizer` is deprecated and will be removed in version 5.0.0 for `Trainer.__init__`. Use `processing_class` instead.\n",
      "  trainer = Trainer(\n",
      "                                                  \n",
      "  2%|▏         | 32/1550 [01:27<43:23,  1.71s/it]"
     ]
    },
    {
     "name": "stdout",
     "output_type": "stream",
     "text": [
      "{'eval_loss': 7.835604190826416, 'eval_runtime': 19.2939, 'eval_samples_per_second': 15.549, 'eval_steps_per_second': 1.97, 'epoch': 1.0}\n"
     ]
    },
    {
     "name": "stderr",
     "output_type": "stream",
     "text": [
      "                                                   \n",
      "  4%|▍         | 64/1550 [02:56<41:49,  1.69s/it]"
     ]
    },
    {
     "name": "stdout",
     "output_type": "stream",
     "text": [
      "{'eval_loss': 5.80400276184082, 'eval_runtime': 19.1651, 'eval_samples_per_second': 15.653, 'eval_steps_per_second': 1.983, 'epoch': 2.0}\n"
     ]
    },
    {
     "name": "stderr",
     "output_type": "stream",
     "text": [
      "                                                   \n",
      "  6%|▌         | 96/1550 [04:23<40:08,  1.66s/it]"
     ]
    },
    {
     "name": "stdout",
     "output_type": "stream",
     "text": [
      "{'eval_loss': 4.506104946136475, 'eval_runtime': 18.8688, 'eval_samples_per_second': 15.899, 'eval_steps_per_second': 2.014, 'epoch': 3.0}\n"
     ]
    },
    {
     "name": "stderr",
     "output_type": "stream",
     "text": [
      "  6%|▋         | 100/1550 [04:42<1:57:30,  4.86s/it]"
     ]
    },
    {
     "name": "stdout",
     "output_type": "stream",
     "text": [
      "{'loss': 6.2884, 'grad_norm': 4.910268783569336, 'learning_rate': 9.6e-05, 'epoch': 3.13}\n"
     ]
    },
    {
     "name": "stderr",
     "output_type": "stream",
     "text": [
      "                                                    \n",
      "  8%|▊         | 128/1550 [05:51<39:24,  1.66s/it]"
     ]
    },
    {
     "name": "stdout",
     "output_type": "stream",
     "text": [
      "{'eval_loss': 3.6022536754608154, 'eval_runtime': 18.9334, 'eval_samples_per_second': 15.845, 'eval_steps_per_second': 2.007, 'epoch': 4.0}\n"
     ]
    },
    {
     "name": "stderr",
     "output_type": "stream",
     "text": [
      "                                                    \n",
      " 10%|█         | 160/1550 [07:19<38:22,  1.66s/it]"
     ]
    },
    {
     "name": "stdout",
     "output_type": "stream",
     "text": [
      "{'eval_loss': 2.584322929382324, 'eval_runtime': 19.0104, 'eval_samples_per_second': 15.781, 'eval_steps_per_second': 1.999, 'epoch': 5.0}\n"
     ]
    },
    {
     "name": "stderr",
     "output_type": "stream",
     "text": [
      "                                                    \n",
      " 12%|█▏        | 192/1550 [08:45<37:04,  1.64s/it]"
     ]
    },
    {
     "name": "stdout",
     "output_type": "stream",
     "text": [
      "{'eval_loss': 1.628096342086792, 'eval_runtime': 18.6645, 'eval_samples_per_second': 16.073, 'eval_steps_per_second': 2.036, 'epoch': 6.0}\n"
     ]
    },
    {
     "name": "stderr",
     "output_type": "stream",
     "text": [
      " 13%|█▎        | 200/1550 [09:10<56:41,  2.52s/it]  "
     ]
    },
    {
     "name": "stdout",
     "output_type": "stream",
     "text": [
      "{'loss': 2.7959, 'grad_norm': 1.0702965259552002, 'learning_rate': 9.892234450380547e-05, 'epoch': 6.26}\n"
     ]
    },
    {
     "name": "stderr",
     "output_type": "stream",
     "text": [
      "                                                  \n",
      " 14%|█▍        | 224/1550 [10:12<36:20,  1.64s/it]"
     ]
    },
    {
     "name": "stdout",
     "output_type": "stream",
     "text": [
      "{'eval_loss': 1.5033977031707764, 'eval_runtime': 18.7127, 'eval_samples_per_second': 16.032, 'eval_steps_per_second': 2.031, 'epoch': 7.0}\n"
     ]
    },
    {
     "name": "stderr",
     "output_type": "stream",
     "text": [
      "                                                    \n",
      " 17%|█▋        | 256/1550 [11:38<35:16,  1.64s/it]"
     ]
    },
    {
     "name": "stdout",
     "output_type": "stream",
     "text": [
      "{'eval_loss': 1.4816855192184448, 'eval_runtime': 18.7315, 'eval_samples_per_second': 16.016, 'eval_steps_per_second': 2.029, 'epoch': 8.0}\n"
     ]
    },
    {
     "name": "stderr",
     "output_type": "stream",
     "text": [
      "                                                    \n",
      " 19%|█▊        | 288/1550 [13:05<34:23,  1.64s/it]"
     ]
    },
    {
     "name": "stdout",
     "output_type": "stream",
     "text": [
      "{'eval_loss': 1.4672071933746338, 'eval_runtime': 18.7236, 'eval_samples_per_second': 16.023, 'eval_steps_per_second': 2.03, 'epoch': 9.0}\n"
     ]
    },
    {
     "name": "stderr",
     "output_type": "stream",
     "text": [
      " 19%|█▉        | 300/1550 [13:37<41:11,  1.98s/it]  "
     ]
    },
    {
     "name": "stdout",
     "output_type": "stream",
     "text": [
      "{'loss': 1.4124, 'grad_norm': 0.39967161417007446, 'learning_rate': 9.555901222944468e-05, 'epoch': 9.38}\n"
     ]
    },
    {
     "name": "stderr",
     "output_type": "stream",
     "text": [
      "                                                  \n",
      " 21%|██        | 320/1550 [14:31<33:44,  1.65s/it]"
     ]
    },
    {
     "name": "stdout",
     "output_type": "stream",
     "text": [
      "{'eval_loss': 1.4549081325531006, 'eval_runtime': 18.7275, 'eval_samples_per_second': 16.019, 'eval_steps_per_second': 2.029, 'epoch': 10.0}\n"
     ]
    },
    {
     "name": "stderr",
     "output_type": "stream",
     "text": [
      "                                                    \n",
      " 23%|██▎       | 352/1550 [15:58<32:41,  1.64s/it]"
     ]
    },
    {
     "name": "stdout",
     "output_type": "stream",
     "text": [
      "{'eval_loss': 1.4437892436981201, 'eval_runtime': 18.7418, 'eval_samples_per_second': 16.007, 'eval_steps_per_second': 2.028, 'epoch': 11.0}\n"
     ]
    },
    {
     "name": "stderr",
     "output_type": "stream",
     "text": [
      "                                                    \n",
      " 25%|██▍       | 384/1550 [17:25<31:46,  1.63s/it]"
     ]
    },
    {
     "name": "stdout",
     "output_type": "stream",
     "text": [
      "{'eval_loss': 1.4342124462127686, 'eval_runtime': 18.7749, 'eval_samples_per_second': 15.979, 'eval_steps_per_second': 2.024, 'epoch': 12.0}\n"
     ]
    },
    {
     "name": "stderr",
     "output_type": "stream",
     "text": [
      " 26%|██▌       | 400/1550 [18:04<35:24,  1.85s/it]  "
     ]
    },
    {
     "name": "stdout",
     "output_type": "stream",
     "text": [
      "{'loss': 1.373, 'grad_norm': 0.4858172535896301, 'learning_rate': 9.00653911784403e-05, 'epoch': 12.51}\n"
     ]
    },
    {
     "name": "stderr",
     "output_type": "stream",
     "text": [
      "                                                  \n",
      " 27%|██▋       | 416/1550 [18:51<31:01,  1.64s/it]"
     ]
    },
    {
     "name": "stdout",
     "output_type": "stream",
     "text": [
      "{'eval_loss': 1.4247632026672363, 'eval_runtime': 18.7207, 'eval_samples_per_second': 16.025, 'eval_steps_per_second': 2.03, 'epoch': 13.0}\n"
     ]
    },
    {
     "name": "stderr",
     "output_type": "stream",
     "text": [
      "                                                    \n",
      " 29%|██▉       | 448/1550 [20:18<30:10,  1.64s/it]"
     ]
    },
    {
     "name": "stdout",
     "output_type": "stream",
     "text": [
      "{'eval_loss': 1.416720986366272, 'eval_runtime': 18.8287, 'eval_samples_per_second': 15.933, 'eval_steps_per_second': 2.018, 'epoch': 14.0}\n"
     ]
    },
    {
     "name": "stderr",
     "output_type": "stream",
     "text": [
      "                                                    \n",
      " 31%|███       | 480/1550 [21:45<29:21,  1.65s/it]"
     ]
    },
    {
     "name": "stdout",
     "output_type": "stream",
     "text": [
      "{'eval_loss': 1.4095531702041626, 'eval_runtime': 18.7814, 'eval_samples_per_second': 15.973, 'eval_steps_per_second': 2.023, 'epoch': 15.0}\n"
     ]
    },
    {
     "name": "stderr",
     "output_type": "stream",
     "text": [
      " 32%|███▏      | 500/1550 [22:31<31:48,  1.82s/it]  "
     ]
    },
    {
     "name": "stdout",
     "output_type": "stream",
     "text": [
      "{'loss': 1.328, 'grad_norm': 0.5438783168792725, 'learning_rate': 8.269835696541607e-05, 'epoch': 15.64}\n"
     ]
    },
    {
     "name": "stderr",
     "output_type": "stream",
     "text": [
      "                                                  \n",
      " 33%|███▎      | 512/1550 [23:11<28:20,  1.64s/it]"
     ]
    },
    {
     "name": "stdout",
     "output_type": "stream",
     "text": [
      "{'eval_loss': 1.4034380912780762, 'eval_runtime': 18.639, 'eval_samples_per_second': 16.095, 'eval_steps_per_second': 2.039, 'epoch': 16.0}\n"
     ]
    },
    {
     "name": "stderr",
     "output_type": "stream",
     "text": [
      "                                                    \n",
      " 35%|███▌      | 544/1550 [24:38<27:31,  1.64s/it]"
     ]
    },
    {
     "name": "stdout",
     "output_type": "stream",
     "text": [
      "{'eval_loss': 1.397752046585083, 'eval_runtime': 18.7391, 'eval_samples_per_second': 16.009, 'eval_steps_per_second': 2.028, 'epoch': 17.0}\n"
     ]
    },
    {
     "name": "stderr",
     "output_type": "stream",
     "text": [
      "                                                    \n",
      " 37%|███▋      | 576/1550 [26:04<26:39,  1.64s/it]"
     ]
    },
    {
     "name": "stdout",
     "output_type": "stream",
     "text": [
      "{'eval_loss': 1.3922765254974365, 'eval_runtime': 18.6784, 'eval_samples_per_second': 16.061, 'eval_steps_per_second': 2.034, 'epoch': 18.0}\n"
     ]
    },
    {
     "name": "stderr",
     "output_type": "stream",
     "text": [
      " 39%|███▊      | 600/1550 [26:58<28:36,  1.81s/it]  "
     ]
    },
    {
     "name": "stdout",
     "output_type": "stream",
     "text": [
      "{'loss': 1.3115, 'grad_norm': 0.519915759563446, 'learning_rate': 7.380238392230257e-05, 'epoch': 18.77}\n"
     ]
    },
    {
     "name": "stderr",
     "output_type": "stream",
     "text": [
      "                                                  \n",
      " 39%|███▉      | 608/1550 [27:31<25:42,  1.64s/it]"
     ]
    },
    {
     "name": "stdout",
     "output_type": "stream",
     "text": [
      "{'eval_loss': 1.3881380558013916, 'eval_runtime': 18.6119, 'eval_samples_per_second': 16.119, 'eval_steps_per_second': 2.042, 'epoch': 19.0}\n"
     ]
    },
    {
     "name": "stderr",
     "output_type": "stream",
     "text": [
      "                                                    \n",
      " 41%|████▏     | 640/1550 [28:58<24:48,  1.64s/it]"
     ]
    },
    {
     "name": "stdout",
     "output_type": "stream",
     "text": [
      "{'eval_loss': 1.3839718103408813, 'eval_runtime': 18.7241, 'eval_samples_per_second': 16.022, 'eval_steps_per_second': 2.029, 'epoch': 20.0}\n"
     ]
    },
    {
     "name": "stderr",
     "output_type": "stream",
     "text": [
      "                                                    \n",
      " 43%|████▎     | 672/1550 [30:24<23:58,  1.64s/it]"
     ]
    },
    {
     "name": "stdout",
     "output_type": "stream",
     "text": [
      "{'eval_loss': 1.3808079957962036, 'eval_runtime': 18.6949, 'eval_samples_per_second': 16.047, 'eval_steps_per_second': 2.033, 'epoch': 21.0}\n"
     ]
    },
    {
     "name": "stderr",
     "output_type": "stream",
     "text": [
      " 45%|████▌     | 700/1550 [31:25<25:34,  1.81s/it]  "
     ]
    },
    {
     "name": "stdout",
     "output_type": "stream",
     "text": [
      "{'loss': 1.2958, 'grad_norm': 0.44175440073013306, 'learning_rate': 6.379343786143184e-05, 'epoch': 21.9}\n"
     ]
    },
    {
     "name": "stderr",
     "output_type": "stream",
     "text": [
      "                                                  \n",
      " 45%|████▌     | 704/1550 [31:51<23:09,  1.64s/it]"
     ]
    },
    {
     "name": "stdout",
     "output_type": "stream",
     "text": [
      "{'eval_loss': 1.3779841661453247, 'eval_runtime': 18.6254, 'eval_samples_per_second': 16.107, 'eval_steps_per_second': 2.04, 'epoch': 22.0}\n"
     ]
    },
    {
     "name": "stderr",
     "output_type": "stream",
     "text": [
      "                                                    \n",
      " 47%|████▋     | 736/1550 [33:17<22:11,  1.64s/it]"
     ]
    },
    {
     "name": "stdout",
     "output_type": "stream",
     "text": [
      "{'eval_loss': 1.3760381937026978, 'eval_runtime': 18.6893, 'eval_samples_per_second': 16.052, 'eval_steps_per_second': 2.033, 'epoch': 23.0}\n"
     ]
    },
    {
     "name": "stderr",
     "output_type": "stream",
     "text": [
      "                                                    \n",
      " 50%|████▉     | 768/1550 [34:44<21:24,  1.64s/it]"
     ]
    },
    {
     "name": "stdout",
     "output_type": "stream",
     "text": [
      "{'eval_loss': 1.373652696609497, 'eval_runtime': 18.7568, 'eval_samples_per_second': 15.994, 'eval_steps_per_second': 2.026, 'epoch': 24.0}\n"
     ]
    },
    {
     "name": "stderr",
     "output_type": "stream",
     "text": [
      " 52%|█████▏    | 800/1550 [35:52<20:27,  1.64s/it]  "
     ]
    },
    {
     "name": "stdout",
     "output_type": "stream",
     "text": [
      "{'loss': 1.2703, 'grad_norm': 0.1757887452840805, 'learning_rate': 5.313952597646568e-05, 'epoch': 25.0}\n"
     ]
    },
    {
     "name": "stderr",
     "output_type": "stream",
     "text": [
      "                                                  \n",
      " 52%|█████▏    | 800/1550 [36:10<20:27,  1.64s/it]"
     ]
    },
    {
     "name": "stdout",
     "output_type": "stream",
     "text": [
      "{'eval_loss': 1.3717018365859985, 'eval_runtime': 18.7964, 'eval_samples_per_second': 15.961, 'eval_steps_per_second': 2.022, 'epoch': 25.0}\n"
     ]
    },
    {
     "name": "stderr",
     "output_type": "stream",
     "text": [
      "                                                    \n",
      " 54%|█████▎    | 832/1550 [37:37<20:08,  1.68s/it]"
     ]
    },
    {
     "name": "stdout",
     "output_type": "stream",
     "text": [
      "{'eval_loss': 1.3697515726089478, 'eval_runtime': 18.6903, 'eval_samples_per_second': 16.051, 'eval_steps_per_second': 2.033, 'epoch': 26.0}\n"
     ]
    },
    {
     "name": "stderr",
     "output_type": "stream",
     "text": [
      "                                                    \n",
      " 56%|█████▌    | 864/1550 [39:04<18:46,  1.64s/it]"
     ]
    },
    {
     "name": "stdout",
     "output_type": "stream",
     "text": [
      "{'eval_loss': 1.3682732582092285, 'eval_runtime': 18.7461, 'eval_samples_per_second': 16.003, 'eval_steps_per_second': 2.027, 'epoch': 27.0}\n"
     ]
    },
    {
     "name": "stderr",
     "output_type": "stream",
     "text": [
      "                                                    \n",
      " 58%|█████▊    | 896/1550 [40:31<17:51,  1.64s/it]"
     ]
    },
    {
     "name": "stdout",
     "output_type": "stream",
     "text": [
      "{'eval_loss': 1.3668441772460938, 'eval_runtime': 18.6803, 'eval_samples_per_second': 16.06, 'eval_steps_per_second': 2.034, 'epoch': 28.0}\n"
     ]
    },
    {
     "name": "stderr",
     "output_type": "stream",
     "text": [
      " 58%|█████▊    | 900/1550 [40:48<51:42,  4.77s/it]  "
     ]
    },
    {
     "name": "stdout",
     "output_type": "stream",
     "text": [
      "{'loss': 1.2737, 'grad_norm': 0.4811059832572937, 'learning_rate': 4.2338813346172476e-05, 'epoch': 28.13}\n"
     ]
    },
    {
     "name": "stderr",
     "output_type": "stream",
     "text": [
      "                                                  \n",
      " 60%|█████▉    | 928/1550 [41:57<17:02,  1.64s/it]"
     ]
    },
    {
     "name": "stdout",
     "output_type": "stream",
     "text": [
      "{'eval_loss': 1.3657336235046387, 'eval_runtime': 18.561, 'eval_samples_per_second': 16.163, 'eval_steps_per_second': 2.047, 'epoch': 29.0}\n"
     ]
    },
    {
     "name": "stderr",
     "output_type": "stream",
     "text": [
      "                                                    \n",
      " 62%|██████▏   | 960/1550 [43:23<16:08,  1.64s/it]"
     ]
    },
    {
     "name": "stdout",
     "output_type": "stream",
     "text": [
      "{'eval_loss': 1.3645687103271484, 'eval_runtime': 18.5681, 'eval_samples_per_second': 16.157, 'eval_steps_per_second': 2.047, 'epoch': 30.0}\n"
     ]
    },
    {
     "name": "stderr",
     "output_type": "stream",
     "text": [
      "                                                    \n",
      " 64%|██████▍   | 992/1550 [44:50<15:15,  1.64s/it]"
     ]
    },
    {
     "name": "stdout",
     "output_type": "stream",
     "text": [
      "{'eval_loss': 1.363668441772461, 'eval_runtime': 18.8158, 'eval_samples_per_second': 15.944, 'eval_steps_per_second': 2.02, 'epoch': 31.0}\n"
     ]
    },
    {
     "name": "stderr",
     "output_type": "stream",
     "text": [
      " 65%|██████▍   | 1000/1550 [45:15<23:08,  2.53s/it] "
     ]
    },
    {
     "name": "stdout",
     "output_type": "stream",
     "text": [
      "{'loss': 1.2707, 'grad_norm': 0.7336872220039368, 'learning_rate': 3.1896329289014846e-05, 'epoch': 31.26}\n"
     ]
    },
    {
     "name": "stderr",
     "output_type": "stream",
     "text": [
      "                                                   \n",
      " 66%|██████▌   | 1024/1550 [46:17<14:21,  1.64s/it]"
     ]
    },
    {
     "name": "stdout",
     "output_type": "stream",
     "text": [
      "{'eval_loss': 1.362987995147705, 'eval_runtime': 18.7201, 'eval_samples_per_second': 16.026, 'eval_steps_per_second': 2.03, 'epoch': 32.0}\n"
     ]
    },
    {
     "name": "stderr",
     "output_type": "stream",
     "text": [
      "                                                     \n",
      " 68%|██████▊   | 1056/1550 [47:43<13:27,  1.63s/it]"
     ]
    },
    {
     "name": "stdout",
     "output_type": "stream",
     "text": [
      "{'eval_loss': 1.3622281551361084, 'eval_runtime': 18.7726, 'eval_samples_per_second': 15.981, 'eval_steps_per_second': 2.024, 'epoch': 33.0}\n"
     ]
    },
    {
     "name": "stderr",
     "output_type": "stream",
     "text": [
      "                                                     \n",
      " 70%|███████   | 1088/1550 [49:10<12:35,  1.64s/it]"
     ]
    },
    {
     "name": "stdout",
     "output_type": "stream",
     "text": [
      "{'eval_loss': 1.3614506721496582, 'eval_runtime': 18.5642, 'eval_samples_per_second': 16.16, 'eval_steps_per_second': 2.047, 'epoch': 34.0}\n"
     ]
    },
    {
     "name": "stderr",
     "output_type": "stream",
     "text": [
      " 71%|███████   | 1100/1550 [49:42<14:48,  1.98s/it]  "
     ]
    },
    {
     "name": "stdout",
     "output_type": "stream",
     "text": [
      "{'loss': 1.263, 'grad_norm': 0.6474571824073792, 'learning_rate': 2.230035275351806e-05, 'epoch': 34.38}\n"
     ]
    },
    {
     "name": "stderr",
     "output_type": "stream",
     "text": [
      "                                                   \n",
      " 72%|███████▏  | 1120/1550 [50:36<11:43,  1.64s/it]"
     ]
    },
    {
     "name": "stdout",
     "output_type": "stream",
     "text": [
      "{'eval_loss': 1.3609309196472168, 'eval_runtime': 18.7164, 'eval_samples_per_second': 16.029, 'eval_steps_per_second': 2.03, 'epoch': 35.0}\n"
     ]
    },
    {
     "name": "stderr",
     "output_type": "stream",
     "text": [
      "                                                     \n",
      " 74%|███████▍  | 1152/1550 [52:03<10:54,  1.64s/it]"
     ]
    },
    {
     "name": "stdout",
     "output_type": "stream",
     "text": [
      "{'eval_loss': 1.3606243133544922, 'eval_runtime': 18.6781, 'eval_samples_per_second': 16.062, 'eval_steps_per_second': 2.034, 'epoch': 36.0}\n"
     ]
    },
    {
     "name": "stderr",
     "output_type": "stream",
     "text": [
      "                                                     \n",
      " 76%|███████▋  | 1184/1550 [53:30<10:01,  1.64s/it]"
     ]
    },
    {
     "name": "stdout",
     "output_type": "stream",
     "text": [
      "{'eval_loss': 1.3601919412612915, 'eval_runtime': 18.6283, 'eval_samples_per_second': 16.105, 'eval_steps_per_second': 2.04, 'epoch': 37.0}\n"
     ]
    },
    {
     "name": "stderr",
     "output_type": "stream",
     "text": [
      " 77%|███████▋  | 1200/1550 [54:09<10:46,  1.85s/it]  "
     ]
    },
    {
     "name": "stdout",
     "output_type": "stream",
     "text": [
      "{'loss': 1.2528, 'grad_norm': 0.5157337188720703, 'learning_rate': 1.3999580937320011e-05, 'epoch': 37.51}\n"
     ]
    },
    {
     "name": "stderr",
     "output_type": "stream",
     "text": [
      "                                                   \n",
      " 78%|███████▊  | 1216/1550 [54:56<09:07,  1.64s/it]"
     ]
    },
    {
     "name": "stdout",
     "output_type": "stream",
     "text": [
      "{'eval_loss': 1.3599884510040283, 'eval_runtime': 18.6698, 'eval_samples_per_second': 16.069, 'eval_steps_per_second': 2.035, 'epoch': 38.0}\n"
     ]
    },
    {
     "name": "stderr",
     "output_type": "stream",
     "text": [
      "                                                   \n",
      " 81%|████████  | 1248/1550 [56:23<08:14,  1.64s/it]"
     ]
    },
    {
     "name": "stdout",
     "output_type": "stream",
     "text": [
      "{'eval_loss': 1.3596688508987427, 'eval_runtime': 18.7197, 'eval_samples_per_second': 16.026, 'eval_steps_per_second': 2.03, 'epoch': 39.0}\n"
     ]
    },
    {
     "name": "stderr",
     "output_type": "stream",
     "text": [
      "                                                   \n",
      " 83%|████████▎ | 1280/1550 [57:49<07:20,  1.63s/it]"
     ]
    },
    {
     "name": "stdout",
     "output_type": "stream",
     "text": [
      "{'eval_loss': 1.3594094514846802, 'eval_runtime': 18.6754, 'eval_samples_per_second': 16.064, 'eval_steps_per_second': 2.035, 'epoch': 40.0}\n"
     ]
    },
    {
     "name": "stderr",
     "output_type": "stream",
     "text": [
      " 84%|████████▍ | 1300/1550 [58:36<07:33,  1.81s/it]"
     ]
    },
    {
     "name": "stdout",
     "output_type": "stream",
     "text": [
      "{'loss': 1.2566, 'grad_norm': 0.6422318816184998, 'learning_rate': 7.382148704900877e-06, 'epoch': 40.64}\n"
     ]
    },
    {
     "name": "stderr",
     "output_type": "stream",
     "text": [
      "                                                   \n",
      " 85%|████████▍ | 1312/1550 [59:16<06:29,  1.64s/it]"
     ]
    },
    {
     "name": "stdout",
     "output_type": "stream",
     "text": [
      "{'eval_loss': 1.3593335151672363, 'eval_runtime': 18.6918, 'eval_samples_per_second': 16.05, 'eval_steps_per_second': 2.033, 'epoch': 41.0}\n"
     ]
    },
    {
     "name": "stderr",
     "output_type": "stream",
     "text": [
      "                                                     \n",
      " 87%|████████▋ | 1344/1550 [1:00:42<05:36,  1.63s/it]"
     ]
    },
    {
     "name": "stdout",
     "output_type": "stream",
     "text": [
      "{'eval_loss': 1.3591327667236328, 'eval_runtime': 18.6282, 'eval_samples_per_second': 16.105, 'eval_steps_per_second': 2.04, 'epoch': 42.0}\n"
     ]
    },
    {
     "name": "stderr",
     "output_type": "stream",
     "text": [
      "                                                     \n",
      " 89%|████████▉ | 1376/1550 [1:02:09<04:45,  1.64s/it]"
     ]
    },
    {
     "name": "stdout",
     "output_type": "stream",
     "text": [
      "{'eval_loss': 1.3589444160461426, 'eval_runtime': 18.6483, 'eval_samples_per_second': 16.087, 'eval_steps_per_second': 2.038, 'epoch': 43.0}\n"
     ]
    },
    {
     "name": "stderr",
     "output_type": "stream",
     "text": [
      " 90%|█████████ | 1400/1550 [1:03:03<04:31,  1.81s/it]"
     ]
    },
    {
     "name": "stdout",
     "output_type": "stream",
     "text": [
      "{'loss': 1.2612, 'grad_norm': 0.6012564301490784, 'learning_rate': 2.75747983270091e-06, 'epoch': 43.77}\n"
     ]
    },
    {
     "name": "stderr",
     "output_type": "stream",
     "text": [
      "                                                     \n",
      " 91%|█████████ | 1408/1550 [1:03:35<03:52,  1.64s/it]"
     ]
    },
    {
     "name": "stdout",
     "output_type": "stream",
     "text": [
      "{'eval_loss': 1.3589411973953247, 'eval_runtime': 18.7731, 'eval_samples_per_second': 15.98, 'eval_steps_per_second': 2.024, 'epoch': 44.0}\n"
     ]
    },
    {
     "name": "stderr",
     "output_type": "stream",
     "text": [
      "                                                     \n",
      " 93%|█████████▎| 1440/1550 [1:05:02<03:00,  1.64s/it]"
     ]
    },
    {
     "name": "stdout",
     "output_type": "stream",
     "text": [
      "{'eval_loss': 1.3588733673095703, 'eval_runtime': 18.7849, 'eval_samples_per_second': 15.97, 'eval_steps_per_second': 2.023, 'epoch': 45.0}\n"
     ]
    },
    {
     "name": "stderr",
     "output_type": "stream",
     "text": [
      "                                                     \n",
      " 95%|█████████▍| 1472/1550 [1:06:29<02:07,  1.63s/it]"
     ]
    },
    {
     "name": "stdout",
     "output_type": "stream",
     "text": [
      "{'eval_loss': 1.3588374853134155, 'eval_runtime': 18.7286, 'eval_samples_per_second': 16.018, 'eval_steps_per_second': 2.029, 'epoch': 46.0}\n"
     ]
    },
    {
     "name": "stderr",
     "output_type": "stream",
     "text": [
      " 97%|█████████▋| 1500/1550 [1:07:30<01:30,  1.81s/it]"
     ]
    },
    {
     "name": "stdout",
     "output_type": "stream",
     "text": [
      "{'loss': 1.2544, 'grad_norm': 0.6260994672775269, 'learning_rate': 3.418186972338977e-07, 'epoch': 46.9}\n"
     ]
    },
    {
     "name": "stderr",
     "output_type": "stream",
     "text": [
      "                                                     \n",
      " 97%|█████████▋| 1504/1550 [1:07:55<01:15,  1.64s/it]"
     ]
    },
    {
     "name": "stdout",
     "output_type": "stream",
     "text": [
      "{'eval_loss': 1.358929991722107, 'eval_runtime': 18.7222, 'eval_samples_per_second': 16.024, 'eval_steps_per_second': 2.03, 'epoch': 47.0}\n"
     ]
    },
    {
     "name": "stderr",
     "output_type": "stream",
     "text": [
      "                                                     \n",
      " 99%|█████████▉| 1536/1550 [1:09:22<00:22,  1.64s/it]"
     ]
    },
    {
     "name": "stdout",
     "output_type": "stream",
     "text": [
      "{'eval_loss': 1.3588889837265015, 'eval_runtime': 18.6964, 'eval_samples_per_second': 16.046, 'eval_steps_per_second': 2.032, 'epoch': 48.0}\n"
     ]
    },
    {
     "name": "stderr",
     "output_type": "stream",
     "text": [
      "                                                     \n",
      "100%|██████████| 1550/1550 [1:10:17<00:00,  1.89s/it]"
     ]
    },
    {
     "name": "stdout",
     "output_type": "stream",
     "text": [
      "{'eval_loss': 1.358924150466919, 'eval_runtime': 18.7765, 'eval_samples_per_second': 15.977, 'eval_steps_per_second': 2.024, 'epoch': 48.45}\n"
     ]
    },
    {
     "name": "stderr",
     "output_type": "stream",
     "text": [
      "100%|██████████| 1550/1550 [1:10:18<00:00,  2.72s/it]\n"
     ]
    },
    {
     "name": "stdout",
     "output_type": "stream",
     "text": [
      "{'train_runtime': 4218.1811, 'train_samples_per_second': 11.853, 'train_steps_per_second': 0.367, 'train_loss': 1.7114721901186052, 'epoch': 48.45}\n"
     ]
    },
    {
     "data": {
      "text/plain": [
       "TrainOutput(global_step=1550, training_loss=1.7114721901186052, metrics={'train_runtime': 4218.1811, 'train_samples_per_second': 11.853, 'train_steps_per_second': 0.367, 'total_flos': 3170255643869184.0, 'train_loss': 1.7114721901186052, 'epoch': 48.448})"
      ]
     },
     "execution_count": 10,
     "metadata": {},
     "output_type": "execute_result"
    }
   ],
   "source": [
    "trainer = Trainer(\n",
    "    model=model,\n",
    "    args=training_args,\n",
    "    train_dataset=train_dataset,\n",
    "    eval_dataset=eval_dataset,\n",
    "    tokenizer=tokenizer,\n",
    ")\n",
    "\n",
    "trainer.train()\n"
   ]
  },
  {
   "cell_type": "markdown",
   "metadata": {},
   "source": [
    "Guardar modelo"
   ]
  },
  {
   "cell_type": "code",
   "execution_count": 11,
   "metadata": {},
   "outputs": [
    {
     "data": {
      "text/plain": [
       "('./gpt2_peft_lora\\\\tokenizer_config.json',\n",
       " './gpt2_peft_lora\\\\special_tokens_map.json',\n",
       " './gpt2_peft_lora\\\\vocab.json',\n",
       " './gpt2_peft_lora\\\\merges.txt',\n",
       " './gpt2_peft_lora\\\\added_tokens.json')"
      ]
     },
     "execution_count": 11,
     "metadata": {},
     "output_type": "execute_result"
    }
   ],
   "source": [
    "model.save_pretrained(\"./gpt2_peft_lora\")\n",
    "tokenizer.save_pretrained(\"./gpt2_peft_lora\")\n"
   ]
  },
  {
   "cell_type": "markdown",
   "metadata": {},
   "source": [
    "Generar texto"
   ]
  },
  {
   "cell_type": "code",
   "execution_count": 12,
   "metadata": {},
   "outputs": [],
   "source": [
    "def generate_text(prompt):\n",
    "    model.eval()  # Asegúrate de que el modelo está en modo evaluación\n",
    "    inputs = tokenizer(prompt, return_tensors=\"pt\", truncation=True).to(device)\n",
    "    outputs = model.generate(**inputs, max_length=100, num_beams=5, early_stopping=True)\n",
    "    return tokenizer.decode(outputs[0], skip_special_tokens=True)\n"
   ]
  },
  {
   "cell_type": "markdown",
   "metadata": {},
   "source": [
    "Pruebas"
   ]
  },
  {
   "cell_type": "code",
   "execution_count": 13,
   "metadata": {},
   "outputs": [
    {
     "name": "stderr",
     "output_type": "stream",
     "text": [
      "Setting `pad_token_id` to `eos_token_id`:None for open-end generation.\n",
      "Setting `pad_token_id` to `eos_token_id`:None for open-end generation.\n"
     ]
    },
    {
     "name": "stdout",
     "output_type": "stream",
     "text": [
      "The evolution of artificial intelligence has been a topic of debate in the field of artificial intelligence research , with some arguing that artificial intelligence is more intelligent than humans , while others argue that artificial intelligence is more intelligent than humans . Some argue that artificial intelligence is more intelligent than humans , while others argue that artificial intelligence is more intelligent than humans . Some argue that artificial intelligence is more intelligent than humans , while others argue that artificial intelligence is more intelligent than humans . Some argue that artificial intelligence is more intelligent than humans ,\n"
     ]
    },
    {
     "name": "stderr",
     "output_type": "stream",
     "text": [
      "Setting `pad_token_id` to `eos_token_id`:None for open-end generation.\n"
     ]
    },
    {
     "name": "stdout",
     "output_type": "stream",
     "text": [
      "Once upon a time in a distant galaxy, the stars of the Milky Way and the Milky Way were in a state of flux. The stars of the Milky Way and the Milky Way were in a state of flux. The stars of the Milky Way and the Milky Way were in a state of flux. The stars of the Milky Way and the Milky Way were in a state of flux. The stars of the Milky Way and the Milky Way were in a state of flux. The stars of the Milky Way\n",
      "The future of humanity depends on the ability of the human species to adapt to the changing environment and to cope with the challenges of life on the planet. The human species must adapt to the changing environment and to cope with the challenges of life on the planet. The human species must adapt to the changing environment and to cope with the challenges of life on the planet.\n",
      "\n"
     ]
    }
   ],
   "source": [
    "print(generate_text(\"The evolution of artificial intelligence has\"))\n",
    "print(generate_text(\"Once upon a time in a distant galaxy\"))\n",
    "print(generate_text(\"The future of humanity depends on\"))\n"
   ]
  },
  {
   "cell_type": "code",
   "execution_count": 16,
   "metadata": {},
   "outputs": [
    {
     "name": "stderr",
     "output_type": "stream",
     "text": [
      "Setting `pad_token_id` to `eos_token_id`:None for open-end generation.\n"
     ]
    },
    {
     "name": "stdout",
     "output_type": "stream",
     "text": [
      "the most famous actor in 20th century is Robert De Niro , who played the lead role in the first film in the series . He was also a member of the cast of the first film in the series . He was also a member of the cast of the first film in the series . He was also a member of the cast of the first film in the series . He was also a member of the cast of the first film in the series . He was also a member of the cast of\n"
     ]
    }
   ],
   "source": [
    "print(generate_text(\"the most famous actor in 20th century is\"))"
   ]
  }
 ],
 "metadata": {
  "kernelspec": {
   "display_name": "Python 3",
   "language": "python",
   "name": "python3"
  },
  "language_info": {
   "codemirror_mode": {
    "name": "ipython",
    "version": 3
   },
   "file_extension": ".py",
   "mimetype": "text/x-python",
   "name": "python",
   "nbconvert_exporter": "python",
   "pygments_lexer": "ipython3",
   "version": "3.11.5"
  }
 },
 "nbformat": 4,
 "nbformat_minor": 2
}
